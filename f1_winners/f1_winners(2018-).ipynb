{
 "cells": [
  {
   "cell_type": "code",
   "execution_count": 96,
   "metadata": {},
   "outputs": [],
   "source": [
    "import pandas as pd"
   ]
  },
  {
   "cell_type": "code",
   "execution_count": 97,
   "metadata": {},
   "outputs": [],
   "source": [
    "df = pd.read_csv('f1_2018.csv')"
   ]
  },
  {
   "cell_type": "code",
   "execution_count": 98,
   "metadata": {},
   "outputs": [
    {
     "data": {
      "text/html": [
       "<div>\n",
       "<style scoped>\n",
       "    .dataframe tbody tr th:only-of-type {\n",
       "        vertical-align: middle;\n",
       "    }\n",
       "\n",
       "    .dataframe tbody tr th {\n",
       "        vertical-align: top;\n",
       "    }\n",
       "\n",
       "    .dataframe thead th {\n",
       "        text-align: right;\n",
       "    }\n",
       "</style>\n",
       "<table border=\"1\" class=\"dataframe\">\n",
       "  <thead>\n",
       "    <tr style=\"text-align: right;\">\n",
       "      <th></th>\n",
       "      <th>Unnamed: 0</th>\n",
       "      <th>raceId</th>\n",
       "      <th>year</th>\n",
       "      <th>circuitId</th>\n",
       "      <th>name</th>\n",
       "      <th>date</th>\n",
       "      <th>driverId</th>\n",
       "      <th>constructorId</th>\n",
       "      <th>laps</th>\n",
       "      <th>time</th>\n",
       "      <th>statusId</th>\n",
       "      <th>driver_name</th>\n",
       "      <th>Temperature (C)</th>\n",
       "      <th>Humidity</th>\n",
       "      <th>WindSpeed</th>\n",
       "      <th>TrackTemp</th>\n",
       "      <th>Rain</th>\n",
       "    </tr>\n",
       "  </thead>\n",
       "  <tbody>\n",
       "    <tr>\n",
       "      <th>0</th>\n",
       "      <td>0</td>\n",
       "      <td>989</td>\n",
       "      <td>2018</td>\n",
       "      <td>1</td>\n",
       "      <td>Australian Grand Prix</td>\n",
       "      <td>2018-03-25</td>\n",
       "      <td>20</td>\n",
       "      <td>6</td>\n",
       "      <td>58</td>\n",
       "      <td>1:29:33.283</td>\n",
       "      <td>1</td>\n",
       "      <td>vettel</td>\n",
       "      <td>24.077477</td>\n",
       "      <td>30.915315</td>\n",
       "      <td>3.691892</td>\n",
       "      <td>3.691892</td>\n",
       "      <td>True</td>\n",
       "    </tr>\n",
       "    <tr>\n",
       "      <th>1</th>\n",
       "      <td>1</td>\n",
       "      <td>990</td>\n",
       "      <td>2018</td>\n",
       "      <td>3</td>\n",
       "      <td>Bahrain Grand Prix</td>\n",
       "      <td>2018-04-08</td>\n",
       "      <td>20</td>\n",
       "      <td>6</td>\n",
       "      <td>57</td>\n",
       "      <td>1:32:01.940</td>\n",
       "      <td>1</td>\n",
       "      <td>vettel</td>\n",
       "      <td>27.982524</td>\n",
       "      <td>47.363107</td>\n",
       "      <td>0.958252</td>\n",
       "      <td>0.958252</td>\n",
       "      <td>False</td>\n",
       "    </tr>\n",
       "    <tr>\n",
       "      <th>2</th>\n",
       "      <td>2</td>\n",
       "      <td>991</td>\n",
       "      <td>2018</td>\n",
       "      <td>17</td>\n",
       "      <td>Chinese Grand Prix</td>\n",
       "      <td>2018-04-15</td>\n",
       "      <td>817</td>\n",
       "      <td>9</td>\n",
       "      <td>56</td>\n",
       "      <td>1:35:36.380</td>\n",
       "      <td>1</td>\n",
       "      <td>ricciardo</td>\n",
       "      <td>19.446429</td>\n",
       "      <td>24.089286</td>\n",
       "      <td>1.837500</td>\n",
       "      <td>1.837500</td>\n",
       "      <td>True</td>\n",
       "    </tr>\n",
       "    <tr>\n",
       "      <th>3</th>\n",
       "      <td>3</td>\n",
       "      <td>992</td>\n",
       "      <td>2018</td>\n",
       "      <td>73</td>\n",
       "      <td>Azerbaijan Grand Prix</td>\n",
       "      <td>2018-04-29</td>\n",
       "      <td>1</td>\n",
       "      <td>131</td>\n",
       "      <td>51</td>\n",
       "      <td>1:43:44.291</td>\n",
       "      <td>1</td>\n",
       "      <td>hamilton</td>\n",
       "      <td>16.661404</td>\n",
       "      <td>45.651754</td>\n",
       "      <td>2.222807</td>\n",
       "      <td>2.222807</td>\n",
       "      <td>False</td>\n",
       "    </tr>\n",
       "    <tr>\n",
       "      <th>4</th>\n",
       "      <td>4</td>\n",
       "      <td>993</td>\n",
       "      <td>2018</td>\n",
       "      <td>4</td>\n",
       "      <td>Spanish Grand Prix</td>\n",
       "      <td>2018-05-13</td>\n",
       "      <td>1</td>\n",
       "      <td>131</td>\n",
       "      <td>66</td>\n",
       "      <td>1:35:29.972</td>\n",
       "      <td>1</td>\n",
       "      <td>hamilton</td>\n",
       "      <td>16.050476</td>\n",
       "      <td>52.286667</td>\n",
       "      <td>1.952381</td>\n",
       "      <td>1.952381</td>\n",
       "      <td>True</td>\n",
       "    </tr>\n",
       "  </tbody>\n",
       "</table>\n",
       "</div>"
      ],
      "text/plain": [
       "   Unnamed: 0  raceId  year  circuitId                   name        date  \\\n",
       "0           0     989  2018          1  Australian Grand Prix  2018-03-25   \n",
       "1           1     990  2018          3     Bahrain Grand Prix  2018-04-08   \n",
       "2           2     991  2018         17     Chinese Grand Prix  2018-04-15   \n",
       "3           3     992  2018         73  Azerbaijan Grand Prix  2018-04-29   \n",
       "4           4     993  2018          4     Spanish Grand Prix  2018-05-13   \n",
       "\n",
       "   driverId  constructorId  laps         time  statusId driver_name  \\\n",
       "0        20              6    58  1:29:33.283         1      vettel   \n",
       "1        20              6    57  1:32:01.940         1      vettel   \n",
       "2       817              9    56  1:35:36.380         1   ricciardo   \n",
       "3         1            131    51  1:43:44.291         1    hamilton   \n",
       "4         1            131    66  1:35:29.972         1    hamilton   \n",
       "\n",
       "   Temperature (C)   Humidity  WindSpeed  TrackTemp   Rain  \n",
       "0        24.077477  30.915315   3.691892   3.691892   True  \n",
       "1        27.982524  47.363107   0.958252   0.958252  False  \n",
       "2        19.446429  24.089286   1.837500   1.837500   True  \n",
       "3        16.661404  45.651754   2.222807   2.222807  False  \n",
       "4        16.050476  52.286667   1.952381   1.952381   True  "
      ]
     },
     "execution_count": 98,
     "metadata": {},
     "output_type": "execute_result"
    }
   ],
   "source": [
    "df.head()"
   ]
  },
  {
   "cell_type": "code",
   "execution_count": 99,
   "metadata": {},
   "outputs": [
    {
     "name": "stderr",
     "output_type": "stream",
     "text": [
      "/var/folders/wm/j6zh4bsx5kd608f73_8dxtn40000gn/T/ipykernel_25219/2863760274.py:19: SettingWithCopyWarning: \n",
      "A value is trying to be set on a copy of a slice from a DataFrame\n",
      "\n",
      "See the caveats in the documentation: https://pandas.pydata.org/pandas-docs/stable/user_guide/indexing.html#returning-a-view-versus-a-copy\n",
      "  df[\"Heat Index\"].loc[i] = heat_index(temp, humidity)\n"
     ]
    }
   ],
   "source": [
    "def heat_index(t,h):\n",
    "    coef = -42.379 + (2.04901523 * t)+(10.14333127 * h)-(0.22475541 * t * h)-(6.83783e-3 * t**2)-(5.481717e-2 * h**2 ) + (1.22874e-3 * t**2 * h) + (8.5282e-4 * t * h**2) - (1.99e-6 * t**2 * h**2)\n",
    "    if coef >= 80 and coef <=90:\n",
    "        return \"Caution\"\n",
    "    elif coef >= 91 and coef <= 103:\n",
    "        return \"Extreme Caution\"\n",
    "    elif coef >= 104 and coef <= 124:\n",
    "        return \"Danger\"\n",
    "    elif coef >= 125:\n",
    "        return \"Extreme Danger\" \n",
    "    else:\n",
    "        return \"Fine\"\n",
    "   \n",
    "df[\"Temperature (F)\"] = (df[\"Temperature (C)\"] * 9/5) + 32\n",
    "df[\"Heat Index\"] = ''\n",
    "for i in range(df[\"Temperature (F)\"].shape[0]):\n",
    "    temp = df[\"Temperature (F)\"].loc[i]\n",
    "    humidity = df[\"Humidity\"].loc[i]\n",
    "    df[\"Heat Index\"].loc[i] = heat_index(temp, humidity)"
   ]
  },
  {
   "cell_type": "code",
   "execution_count": 103,
   "metadata": {},
   "outputs": [
    {
     "data": {
      "text/plain": [
       "Fine               75\n",
       "Caution            31\n",
       "Extreme Caution     8\n",
       "Name: Heat Index, dtype: int64"
      ]
     },
     "execution_count": 103,
     "metadata": {},
     "output_type": "execute_result"
    }
   ],
   "source": [
    "df[\"Heat Index\"].value_counts()"
   ]
  },
  {
   "cell_type": "code",
   "execution_count": 105,
   "metadata": {},
   "outputs": [
    {
     "data": {
      "text/plain": [
       "count    114.000000\n",
       "mean       3.672336\n",
       "std        2.255937\n",
       "min        0.607324\n",
       "25%        2.249856\n",
       "50%        3.357038\n",
       "75%        4.560313\n",
       "max       12.274002\n",
       "Name: WindSpeed (mph), dtype: float64"
      ]
     },
     "execution_count": 105,
     "metadata": {},
     "output_type": "execute_result"
    }
   ],
   "source": [
    "#categorizing wind speed (units of m/s)\n",
    "df[\"WindSpeed\"] = df[\"WindSpeed\"] * 2.2369\n",
    "df[\"WindSpeed (mph)\"] = df[\"WindSpeed\"]\n",
    "df[\"WindSpeed (mph)\"].describe()"
   ]
  },
  {
   "cell_type": "code",
   "execution_count": 109,
   "metadata": {},
   "outputs": [],
   "source": [
    "def wind_speed(x):\n",
    "    if x >= 1 and x < 4:\n",
    "        return \"Light Air\"\n",
    "    elif x >= 4 and x < 8:\n",
    "        return \"Light Breeze\"\n",
    "    elif x >= 8 and x < 13:\n",
    "        return \"Gentle Breeze\"\n",
    "    else:\n",
    "        return \"Calm\"\n",
    "\n",
    "df[\"Wind\"] = df[\"WindSpeed (mph)\"].apply(lambda x: wind_speed(x))\n",
    "\n"
   ]
  },
  {
   "cell_type": "code",
   "execution_count": 110,
   "metadata": {},
   "outputs": [
    {
     "data": {
      "text/plain": [
       "Light Air        53\n",
       "Light Breeze     41\n",
       "Calm             14\n",
       "Gentle Breeze     6\n",
       "Name: Wind, dtype: int64"
      ]
     },
     "execution_count": 110,
     "metadata": {},
     "output_type": "execute_result"
    }
   ],
   "source": [
    "df[\"Wind\"].value_counts()"
   ]
  },
  {
   "cell_type": "code",
   "execution_count": 112,
   "metadata": {},
   "outputs": [
    {
     "data": {
      "text/plain": [
       "Index(['Unnamed: 0', 'raceId', 'year', 'circuitId', 'name', 'date', 'driverId',\n",
       "       'constructorId', 'laps', 'time', 'statusId', 'driver_name',\n",
       "       'Temperature (C)', 'Humidity', 'WindSpeed', 'TrackTemp', 'Rain',\n",
       "       'Temperature (F)', 'Heat Index', 'WindSpeed (mph)', 'Wind'],\n",
       "      dtype='object')"
      ]
     },
     "execution_count": 112,
     "metadata": {},
     "output_type": "execute_result"
    }
   ],
   "source": [
    "df.columns"
   ]
  },
  {
   "cell_type": "code",
   "execution_count": 114,
   "metadata": {},
   "outputs": [],
   "source": [
    "df = df.drop([\"Temperature (C)\", \"Temperature (F)\", \"WindSpeed\", \"WindSpeed (mph)\", \"Humidity\"], axis=1)"
   ]
  },
  {
   "cell_type": "code",
   "execution_count": 115,
   "metadata": {},
   "outputs": [
    {
     "data": {
      "text/html": [
       "<div>\n",
       "<style scoped>\n",
       "    .dataframe tbody tr th:only-of-type {\n",
       "        vertical-align: middle;\n",
       "    }\n",
       "\n",
       "    .dataframe tbody tr th {\n",
       "        vertical-align: top;\n",
       "    }\n",
       "\n",
       "    .dataframe thead th {\n",
       "        text-align: right;\n",
       "    }\n",
       "</style>\n",
       "<table border=\"1\" class=\"dataframe\">\n",
       "  <thead>\n",
       "    <tr style=\"text-align: right;\">\n",
       "      <th></th>\n",
       "      <th>Unnamed: 0</th>\n",
       "      <th>raceId</th>\n",
       "      <th>year</th>\n",
       "      <th>circuitId</th>\n",
       "      <th>name</th>\n",
       "      <th>date</th>\n",
       "      <th>driverId</th>\n",
       "      <th>constructorId</th>\n",
       "      <th>laps</th>\n",
       "      <th>time</th>\n",
       "      <th>statusId</th>\n",
       "      <th>driver_name</th>\n",
       "      <th>Humidity</th>\n",
       "      <th>TrackTemp</th>\n",
       "      <th>Rain</th>\n",
       "      <th>Heat Index</th>\n",
       "      <th>Wind</th>\n",
       "    </tr>\n",
       "  </thead>\n",
       "  <tbody>\n",
       "    <tr>\n",
       "      <th>0</th>\n",
       "      <td>0</td>\n",
       "      <td>989</td>\n",
       "      <td>2018</td>\n",
       "      <td>1</td>\n",
       "      <td>Australian Grand Prix</td>\n",
       "      <td>2018-03-25</td>\n",
       "      <td>20</td>\n",
       "      <td>6</td>\n",
       "      <td>58</td>\n",
       "      <td>1:29:33.283</td>\n",
       "      <td>1</td>\n",
       "      <td>vettel</td>\n",
       "      <td>30.915315</td>\n",
       "      <td>3.691892</td>\n",
       "      <td>True</td>\n",
       "      <td>Fine</td>\n",
       "      <td>Gentle Breeze</td>\n",
       "    </tr>\n",
       "    <tr>\n",
       "      <th>1</th>\n",
       "      <td>1</td>\n",
       "      <td>990</td>\n",
       "      <td>2018</td>\n",
       "      <td>3</td>\n",
       "      <td>Bahrain Grand Prix</td>\n",
       "      <td>2018-04-08</td>\n",
       "      <td>20</td>\n",
       "      <td>6</td>\n",
       "      <td>57</td>\n",
       "      <td>1:32:01.940</td>\n",
       "      <td>1</td>\n",
       "      <td>vettel</td>\n",
       "      <td>47.363107</td>\n",
       "      <td>0.958252</td>\n",
       "      <td>False</td>\n",
       "      <td>Caution</td>\n",
       "      <td>Light Air</td>\n",
       "    </tr>\n",
       "    <tr>\n",
       "      <th>2</th>\n",
       "      <td>2</td>\n",
       "      <td>991</td>\n",
       "      <td>2018</td>\n",
       "      <td>17</td>\n",
       "      <td>Chinese Grand Prix</td>\n",
       "      <td>2018-04-15</td>\n",
       "      <td>817</td>\n",
       "      <td>9</td>\n",
       "      <td>56</td>\n",
       "      <td>1:35:36.380</td>\n",
       "      <td>1</td>\n",
       "      <td>ricciardo</td>\n",
       "      <td>24.089286</td>\n",
       "      <td>1.837500</td>\n",
       "      <td>True</td>\n",
       "      <td>Fine</td>\n",
       "      <td>Light Breeze</td>\n",
       "    </tr>\n",
       "    <tr>\n",
       "      <th>3</th>\n",
       "      <td>3</td>\n",
       "      <td>992</td>\n",
       "      <td>2018</td>\n",
       "      <td>73</td>\n",
       "      <td>Azerbaijan Grand Prix</td>\n",
       "      <td>2018-04-29</td>\n",
       "      <td>1</td>\n",
       "      <td>131</td>\n",
       "      <td>51</td>\n",
       "      <td>1:43:44.291</td>\n",
       "      <td>1</td>\n",
       "      <td>hamilton</td>\n",
       "      <td>45.651754</td>\n",
       "      <td>2.222807</td>\n",
       "      <td>False</td>\n",
       "      <td>Caution</td>\n",
       "      <td>Light Breeze</td>\n",
       "    </tr>\n",
       "    <tr>\n",
       "      <th>4</th>\n",
       "      <td>4</td>\n",
       "      <td>993</td>\n",
       "      <td>2018</td>\n",
       "      <td>4</td>\n",
       "      <td>Spanish Grand Prix</td>\n",
       "      <td>2018-05-13</td>\n",
       "      <td>1</td>\n",
       "      <td>131</td>\n",
       "      <td>66</td>\n",
       "      <td>1:35:29.972</td>\n",
       "      <td>1</td>\n",
       "      <td>hamilton</td>\n",
       "      <td>52.286667</td>\n",
       "      <td>1.952381</td>\n",
       "      <td>True</td>\n",
       "      <td>Caution</td>\n",
       "      <td>Light Breeze</td>\n",
       "    </tr>\n",
       "  </tbody>\n",
       "</table>\n",
       "</div>"
      ],
      "text/plain": [
       "   Unnamed: 0  raceId  year  circuitId                   name        date  \\\n",
       "0           0     989  2018          1  Australian Grand Prix  2018-03-25   \n",
       "1           1     990  2018          3     Bahrain Grand Prix  2018-04-08   \n",
       "2           2     991  2018         17     Chinese Grand Prix  2018-04-15   \n",
       "3           3     992  2018         73  Azerbaijan Grand Prix  2018-04-29   \n",
       "4           4     993  2018          4     Spanish Grand Prix  2018-05-13   \n",
       "\n",
       "   driverId  constructorId  laps         time  statusId driver_name  \\\n",
       "0        20              6    58  1:29:33.283         1      vettel   \n",
       "1        20              6    57  1:32:01.940         1      vettel   \n",
       "2       817              9    56  1:35:36.380         1   ricciardo   \n",
       "3         1            131    51  1:43:44.291         1    hamilton   \n",
       "4         1            131    66  1:35:29.972         1    hamilton   \n",
       "\n",
       "    Humidity  TrackTemp   Rain Heat Index           Wind  \n",
       "0  30.915315   3.691892   True       Fine  Gentle Breeze  \n",
       "1  47.363107   0.958252  False    Caution      Light Air  \n",
       "2  24.089286   1.837500   True       Fine   Light Breeze  \n",
       "3  45.651754   2.222807  False    Caution   Light Breeze  \n",
       "4  52.286667   1.952381   True    Caution   Light Breeze  "
      ]
     },
     "execution_count": 115,
     "metadata": {},
     "output_type": "execute_result"
    }
   ],
   "source": [
    "df.head()"
   ]
  },
  {
   "cell_type": "code",
   "execution_count": 116,
   "metadata": {},
   "outputs": [
    {
     "data": {
      "text/plain": [
       "count    114.000000\n",
       "mean       1.641708\n",
       "std        1.008510\n",
       "min        0.271503\n",
       "25%        1.005792\n",
       "50%        1.500755\n",
       "75%        2.038675\n",
       "max        5.487059\n",
       "Name: TrackTemp, dtype: float64"
      ]
     },
     "execution_count": 116,
     "metadata": {},
     "output_type": "execute_result"
    }
   ],
   "source": [
    "df[\"TrackTemp\"].describe()"
   ]
  }
 ],
 "metadata": {
  "kernelspec": {
   "display_name": "Python 3",
   "language": "python",
   "name": "python3"
  },
  "language_info": {
   "codemirror_mode": {
    "name": "ipython",
    "version": 3
   },
   "file_extension": ".py",
   "mimetype": "text/x-python",
   "name": "python",
   "nbconvert_exporter": "python",
   "pygments_lexer": "ipython3",
   "version": "3.10.9"
  },
  "orig_nbformat": 4
 },
 "nbformat": 4,
 "nbformat_minor": 2
}
