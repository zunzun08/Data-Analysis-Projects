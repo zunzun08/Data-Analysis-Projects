{
 "cells": [
  {
   "cell_type": "code",
   "execution_count": 49,
   "metadata": {},
   "outputs": [],
   "source": [
    "import pandas as pd"
   ]
  },
  {
   "cell_type": "code",
   "execution_count": 50,
   "metadata": {},
   "outputs": [
    {
     "data": {
      "text/html": [
       "<div>\n",
       "<style scoped>\n",
       "    .dataframe tbody tr th:only-of-type {\n",
       "        vertical-align: middle;\n",
       "    }\n",
       "\n",
       "    .dataframe tbody tr th {\n",
       "        vertical-align: top;\n",
       "    }\n",
       "\n",
       "    .dataframe thead th {\n",
       "        text-align: right;\n",
       "    }\n",
       "</style>\n",
       "<table border=\"1\" class=\"dataframe\">\n",
       "  <thead>\n",
       "    <tr style=\"text-align: right;\">\n",
       "      <th></th>\n",
       "      <th>Beer</th>\n",
       "      <th>Brewery</th>\n",
       "      <th>Alcohol(%)</th>\n",
       "      <th>Calories</th>\n",
       "      <th>Carbohydrates</th>\n",
       "    </tr>\n",
       "  </thead>\n",
       "  <tbody>\n",
       "    <tr>\n",
       "      <th>0</th>\n",
       "      <td>American Amber Lager</td>\n",
       "      <td>Straub Brewery</td>\n",
       "      <td>4.1%</td>\n",
       "      <td>136</td>\n",
       "      <td>10.5g</td>\n",
       "    </tr>\n",
       "    <tr>\n",
       "      <th>1</th>\n",
       "      <td>American Lager</td>\n",
       "      <td>Straub Brewery</td>\n",
       "      <td>4.1%</td>\n",
       "      <td>132</td>\n",
       "      <td>10.5g</td>\n",
       "    </tr>\n",
       "    <tr>\n",
       "      <th>2</th>\n",
       "      <td>American Light</td>\n",
       "      <td>Straub Brewery</td>\n",
       "      <td>3.2%</td>\n",
       "      <td>96</td>\n",
       "      <td>7.6g</td>\n",
       "    </tr>\n",
       "    <tr>\n",
       "      <th>3</th>\n",
       "      <td>Anchor Porter</td>\n",
       "      <td>Anchor</td>\n",
       "      <td>5.6%</td>\n",
       "      <td>209</td>\n",
       "      <td>*</td>\n",
       "    </tr>\n",
       "    <tr>\n",
       "      <th>4</th>\n",
       "      <td>Anchor Steam</td>\n",
       "      <td>Anchor</td>\n",
       "      <td>4.9%</td>\n",
       "      <td>153</td>\n",
       "      <td>16.0g</td>\n",
       "    </tr>\n",
       "  </tbody>\n",
       "</table>\n",
       "</div>"
      ],
      "text/plain": [
       "                   Beer         Brewery Alcohol(%) Calories Carbohydrates\n",
       "0  American Amber Lager  Straub Brewery       4.1%      136         10.5g\n",
       "1        American Lager  Straub Brewery       4.1%      132         10.5g\n",
       "2        American Light  Straub Brewery       3.2%       96          7.6g\n",
       "3         Anchor Porter          Anchor       5.6%      209             *\n",
       "4          Anchor Steam          Anchor       4.9%      153         16.0g"
      ]
     },
     "execution_count": 50,
     "metadata": {},
     "output_type": "execute_result"
    }
   ],
   "source": [
    "df = pd.read_csv(\"table.csv\")\n",
    "df.head()"
   ]
  },
  {
   "cell_type": "code",
   "execution_count": 51,
   "metadata": {},
   "outputs": [
    {
     "data": {
      "text/plain": [
       "Index(['Beer', 'Brewery', 'Alcohol(%)', 'Calories', 'Carbohydrates'], dtype='object')"
      ]
     },
     "execution_count": 51,
     "metadata": {},
     "output_type": "execute_result"
    }
   ],
   "source": [
    "df.columns"
   ]
  },
  {
   "cell_type": "code",
   "execution_count": 52,
   "metadata": {},
   "outputs": [
    {
     "data": {
      "text/plain": [
       "(160, 5)"
      ]
     },
     "execution_count": 52,
     "metadata": {},
     "output_type": "execute_result"
    }
   ],
   "source": [
    "import numpy as np\n",
    "df = df.replace(\"*\", np.nan)\n",
    "df = df.dropna(subset= [\"Alcohol(%)\", \"Calories\", \"Carbohydrates\"])\n",
    "df.shape"
   ]
  },
  {
   "cell_type": "code",
   "execution_count": 53,
   "metadata": {},
   "outputs": [
    {
     "data": {
      "text/plain": [
       "Beer             0\n",
       "Brewery          1\n",
       "Alcohol(%)       0\n",
       "Calories         0\n",
       "Carbohydrates    0\n",
       "dtype: int64"
      ]
     },
     "execution_count": 53,
     "metadata": {},
     "output_type": "execute_result"
    }
   ],
   "source": [
    "df.isna().sum()"
   ]
  },
  {
   "cell_type": "code",
   "execution_count": null,
   "metadata": {},
   "outputs": [],
   "source": []
  },
  {
   "cell_type": "code",
   "execution_count": 54,
   "metadata": {},
   "outputs": [],
   "source": [
    "df[\"Alcohol(%)\"] = df[\"Alcohol(%)\"].apply(lambda x: float(x.strip(\"%\")))"
   ]
  },
  {
   "cell_type": "code",
   "execution_count": 55,
   "metadata": {},
   "outputs": [
    {
     "data": {
      "text/html": [
       "<div>\n",
       "<style scoped>\n",
       "    .dataframe tbody tr th:only-of-type {\n",
       "        vertical-align: middle;\n",
       "    }\n",
       "\n",
       "    .dataframe tbody tr th {\n",
       "        vertical-align: top;\n",
       "    }\n",
       "\n",
       "    .dataframe thead th {\n",
       "        text-align: right;\n",
       "    }\n",
       "</style>\n",
       "<table border=\"1\" class=\"dataframe\">\n",
       "  <thead>\n",
       "    <tr style=\"text-align: right;\">\n",
       "      <th></th>\n",
       "      <th>Beer</th>\n",
       "      <th>Brewery</th>\n",
       "      <th>Alcohol(%)</th>\n",
       "      <th>Calories</th>\n",
       "      <th>Carbohydrates</th>\n",
       "    </tr>\n",
       "  </thead>\n",
       "  <tbody>\n",
       "    <tr>\n",
       "      <th>0</th>\n",
       "      <td>American Amber Lager</td>\n",
       "      <td>Straub Brewery</td>\n",
       "      <td>4.1</td>\n",
       "      <td>136</td>\n",
       "      <td>10.5g</td>\n",
       "    </tr>\n",
       "    <tr>\n",
       "      <th>1</th>\n",
       "      <td>American Lager</td>\n",
       "      <td>Straub Brewery</td>\n",
       "      <td>4.1</td>\n",
       "      <td>132</td>\n",
       "      <td>10.5g</td>\n",
       "    </tr>\n",
       "    <tr>\n",
       "      <th>2</th>\n",
       "      <td>American Light</td>\n",
       "      <td>Straub Brewery</td>\n",
       "      <td>3.2</td>\n",
       "      <td>96</td>\n",
       "      <td>7.6g</td>\n",
       "    </tr>\n",
       "    <tr>\n",
       "      <th>4</th>\n",
       "      <td>Anchor Steam</td>\n",
       "      <td>Anchor</td>\n",
       "      <td>4.9</td>\n",
       "      <td>153</td>\n",
       "      <td>16.0g</td>\n",
       "    </tr>\n",
       "    <tr>\n",
       "      <th>5</th>\n",
       "      <td>Anheuser Busch Natural Light</td>\n",
       "      <td>Anheuser Busch</td>\n",
       "      <td>4.2</td>\n",
       "      <td>95</td>\n",
       "      <td>3.2g</td>\n",
       "    </tr>\n",
       "  </tbody>\n",
       "</table>\n",
       "</div>"
      ],
      "text/plain": [
       "                           Beer         Brewery  Alcohol(%) Calories  \\\n",
       "0          American Amber Lager  Straub Brewery         4.1      136   \n",
       "1                American Lager  Straub Brewery         4.1      132   \n",
       "2                American Light  Straub Brewery         3.2       96   \n",
       "4                  Anchor Steam          Anchor         4.9      153   \n",
       "5  Anheuser Busch Natural Light  Anheuser Busch         4.2       95   \n",
       "\n",
       "  Carbohydrates  \n",
       "0         10.5g  \n",
       "1         10.5g  \n",
       "2          7.6g  \n",
       "4         16.0g  \n",
       "5          3.2g  "
      ]
     },
     "execution_count": 55,
     "metadata": {},
     "output_type": "execute_result"
    }
   ],
   "source": [
    "df.head()"
   ]
  },
  {
   "cell_type": "code",
   "execution_count": 56,
   "metadata": {},
   "outputs": [
    {
     "data": {
      "text/plain": [
       "Beer              object\n",
       "Brewery           object\n",
       "Alcohol(%)       float64\n",
       "Calories          object\n",
       "Carbohydrates     object\n",
       "dtype: object"
      ]
     },
     "execution_count": 56,
     "metadata": {},
     "output_type": "execute_result"
    }
   ],
   "source": [
    "df.dtypes"
   ]
  },
  {
   "cell_type": "code",
   "execution_count": 57,
   "metadata": {},
   "outputs": [],
   "source": [
    "df[\"Calories\"] = df[\"Calories\"].astype(int)"
   ]
  },
  {
   "cell_type": "code",
   "execution_count": 58,
   "metadata": {},
   "outputs": [
    {
     "data": {
      "text/plain": [
       "<AxesSubplot: xlabel='Alcohol(%)', ylabel='Calories'>"
      ]
     },
     "execution_count": 58,
     "metadata": {},
     "output_type": "execute_result"
    },
    {
     "data": {
      "image/png": "[encoded data removed]",
      "text/plain": [
       "<Figure size 600x800 with 1 Axes>"
      ]
     },
     "metadata": {},
     "output_type": "display_data"
    }
   ],
   "source": [
    "import seaborn as sns\n",
    "\n",
    "sns.set(rc={\"figure.figsize\": (6,8)})\n",
    "sns.scatterplot(data=df, x=\"Alcohol(%)\", y=\"Calories\")"
   ]
  },
  {
   "cell_type": "code",
   "execution_count": 59,
   "metadata": {},
   "outputs": [],
   "source": [
    "file = df.to_csv('beer_cleaned.csv')"
   ]
  }
 ],
 "metadata": {
  "kernelspec": {
   "display_name": "Python 3",
   "language": "python",
   "name": "python3"
  },
  "language_info": {
   "codemirror_mode": {
    "name": "ipython",
    "version": 3
   },
   "file_extension": ".py",
   "mimetype": "text/x-python",
   "name": "python",
   "nbconvert_exporter": "python",
   "pygments_lexer": "ipython3",
   "version": "3.10.9"
  },
  "orig_nbformat": 4
 },
 "nbformat": 4,
 "nbformat_minor": 2
}
